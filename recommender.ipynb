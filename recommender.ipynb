{
 "cells": [
  {
   "cell_type": "code",
   "execution_count": 56,
   "id": "113925ef",
   "metadata": {},
   "outputs": [],
   "source": [
    "#https://www.kaggle.com/datasets/saurabhbagchi/books-dataset?select=books_data\n",
    "\n",
    "import pandas as pd\n",
    "\n",
    "books = pd.read_csv(\"books.csv\", encoding=\"latin1\", quotechar='\"', on_bad_lines=\"skip\", low_memory=False)\n",
    "\n",
    "books = books.drop(columns=['Image-URL-S', 'Image-URL-M', 'Image-URL-L', 'Publisher'])\n",
    "\n",
    "books.rename(columns={'ISBN': 'isbn', 'Book-Title' : 'title', 'Book-Author' : 'author', 'Year-Of-Publication' : 'pub_year'}, inplace=True)"
   ]
  },
  {
   "cell_type": "code",
   "execution_count": 57,
   "id": "ddbad4a8",
   "metadata": {},
   "outputs": [
    {
     "data": {
      "text/html": [
       "<div>\n",
       "<style scoped>\n",
       "    .dataframe tbody tr th:only-of-type {\n",
       "        vertical-align: middle;\n",
       "    }\n",
       "\n",
       "    .dataframe tbody tr th {\n",
       "        vertical-align: top;\n",
       "    }\n",
       "\n",
       "    .dataframe thead th {\n",
       "        text-align: right;\n",
       "    }\n",
       "</style>\n",
       "<table border=\"1\" class=\"dataframe\">\n",
       "  <thead>\n",
       "    <tr style=\"text-align: right;\">\n",
       "      <th></th>\n",
       "      <th>isbn</th>\n",
       "      <th>title</th>\n",
       "      <th>author</th>\n",
       "      <th>pub_year</th>\n",
       "    </tr>\n",
       "  </thead>\n",
       "  <tbody>\n",
       "    <tr>\n",
       "      <th>0</th>\n",
       "      <td>0195153448</td>\n",
       "      <td>Classical Mythology</td>\n",
       "      <td>Mark P. O. Morford</td>\n",
       "      <td>2002</td>\n",
       "    </tr>\n",
       "    <tr>\n",
       "      <th>1</th>\n",
       "      <td>0002005018</td>\n",
       "      <td>Clara Callan</td>\n",
       "      <td>Richard Bruce Wright</td>\n",
       "      <td>2001</td>\n",
       "    </tr>\n",
       "    <tr>\n",
       "      <th>2</th>\n",
       "      <td>0060973129</td>\n",
       "      <td>Decision in Normandy</td>\n",
       "      <td>Carlo D'Este</td>\n",
       "      <td>1991</td>\n",
       "    </tr>\n",
       "    <tr>\n",
       "      <th>3</th>\n",
       "      <td>0374157065</td>\n",
       "      <td>Flu: The Story of the Great Influenza Pandemic...</td>\n",
       "      <td>Gina Bari Kolata</td>\n",
       "      <td>1999</td>\n",
       "    </tr>\n",
       "    <tr>\n",
       "      <th>4</th>\n",
       "      <td>0393045218</td>\n",
       "      <td>The Mummies of Urumchi</td>\n",
       "      <td>E. J. W. Barber</td>\n",
       "      <td>1999</td>\n",
       "    </tr>\n",
       "    <tr>\n",
       "      <th>...</th>\n",
       "      <td>...</td>\n",
       "      <td>...</td>\n",
       "      <td>...</td>\n",
       "      <td>...</td>\n",
       "    </tr>\n",
       "    <tr>\n",
       "      <th>271259</th>\n",
       "      <td>0440400988</td>\n",
       "      <td>There's a Bat in Bunk Five</td>\n",
       "      <td>Paula Danziger</td>\n",
       "      <td>1988</td>\n",
       "    </tr>\n",
       "    <tr>\n",
       "      <th>271260</th>\n",
       "      <td>0525447644</td>\n",
       "      <td>From One to One Hundred</td>\n",
       "      <td>Teri Sloat</td>\n",
       "      <td>1991</td>\n",
       "    </tr>\n",
       "    <tr>\n",
       "      <th>271261</th>\n",
       "      <td>006008667X</td>\n",
       "      <td>Lily Dale : The True Story of the Town that Ta...</td>\n",
       "      <td>Christine Wicker</td>\n",
       "      <td>2004</td>\n",
       "    </tr>\n",
       "    <tr>\n",
       "      <th>271262</th>\n",
       "      <td>0192126040</td>\n",
       "      <td>Republic (World's Classics)</td>\n",
       "      <td>Plato</td>\n",
       "      <td>1996</td>\n",
       "    </tr>\n",
       "    <tr>\n",
       "      <th>271263</th>\n",
       "      <td>0767409752</td>\n",
       "      <td>A Guided Tour of Rene Descartes' Meditations o...</td>\n",
       "      <td>Christopher  Biffle</td>\n",
       "      <td>2000</td>\n",
       "    </tr>\n",
       "  </tbody>\n",
       "</table>\n",
       "<p>271264 rows × 4 columns</p>\n",
       "</div>"
      ],
      "text/plain": [
       "              isbn                                              title  \\\n",
       "0       0195153448                                Classical Mythology   \n",
       "1       0002005018                                       Clara Callan   \n",
       "2       0060973129                               Decision in Normandy   \n",
       "3       0374157065  Flu: The Story of the Great Influenza Pandemic...   \n",
       "4       0393045218                             The Mummies of Urumchi   \n",
       "...            ...                                                ...   \n",
       "271259  0440400988                         There's a Bat in Bunk Five   \n",
       "271260  0525447644                            From One to One Hundred   \n",
       "271261  006008667X  Lily Dale : The True Story of the Town that Ta...   \n",
       "271262  0192126040                        Republic (World's Classics)   \n",
       "271263  0767409752  A Guided Tour of Rene Descartes' Meditations o...   \n",
       "\n",
       "                      author pub_year  \n",
       "0         Mark P. O. Morford     2002  \n",
       "1       Richard Bruce Wright     2001  \n",
       "2               Carlo D'Este     1991  \n",
       "3           Gina Bari Kolata     1999  \n",
       "4            E. J. W. Barber     1999  \n",
       "...                      ...      ...  \n",
       "271259        Paula Danziger     1988  \n",
       "271260            Teri Sloat     1991  \n",
       "271261      Christine Wicker     2004  \n",
       "271262                 Plato     1996  \n",
       "271263   Christopher  Biffle     2000  \n",
       "\n",
       "[271264 rows x 4 columns]"
      ]
     },
     "execution_count": 57,
     "metadata": {},
     "output_type": "execute_result"
    }
   ],
   "source": [
    "books"
   ]
  },
  {
   "cell_type": "code",
   "execution_count": 58,
   "id": "e8c3f6fc",
   "metadata": {},
   "outputs": [],
   "source": [
    "from sklearn.feature_extraction.text import TfidfVectorizer\n",
    "\n",
    "vectorizer = TfidfVectorizer(ngram_range=(1,2))\n",
    "\n",
    "tfidf = vectorizer.fit_transform(books[\"title\"])"
   ]
  },
  {
   "cell_type": "code",
   "execution_count": 59,
   "id": "ff7ee064",
   "metadata": {},
   "outputs": [],
   "source": [
    "from sklearn.metrics.pairwise import cosine_similarity\n",
    "import numpy as np\n",
    "\n",
    "def search(title):\n",
    "    query_vec = vectorizer.transform([title])\n",
    "    similarity = cosine_similarity(query_vec, tfidf).flatten()\n",
    "    indices = np.argpartition(similarity, -5)[-5:]\n",
    "    results = books.iloc[indices][::-1]\n",
    "    return results"
   ]
  },
  {
   "cell_type": "code",
   "execution_count": null,
   "id": "3932b9bf",
   "metadata": {},
   "outputs": [
    {
     "data": {
      "application/vnd.jupyter.widget-view+json": {
       "model_id": "c761572c276249e6a215d01bee60f9b9",
       "version_major": 2,
       "version_minor": 0
      },
      "text/plain": [
       "Text(value='Goat Brothers', description='Book Title')"
      ]
     },
     "metadata": {},
     "output_type": "display_data"
    },
    {
     "data": {
      "application/vnd.jupyter.widget-view+json": {
       "model_id": "f4c041f256e6479a9d03ee98c78e7fed",
       "version_major": 2,
       "version_minor": 0
      },
      "text/plain": [
       "Output()"
      ]
     },
     "metadata": {},
     "output_type": "display_data"
    }
   ],
   "source": [
    "import ipywidgets as widgets\n",
    "from IPython.display import display\n",
    "\n",
    "book_input = widgets.Text(\n",
    "    value=\"Goat Brothers\",\n",
    "    description=\"Book Title\",\n",
    "    disabled=False\n",
    ")\n",
    "book_list = widgets.Output()\n",
    "\n",
    "def on_type(data):\n",
    "    with book_list:\n",
    "        book_list.clear_output()\n",
    "        title = data[\"new\"]\n",
    "        if len(title) > 5:\n",
    "            display(search(title))\n",
    "\n",
    "book_input.observe(on_type, names='value')\n",
    "\n",
    "display(book_input, book_list)"
   ]
  },
  {
   "cell_type": "code",
   "execution_count": 61,
   "id": "4cc95b82",
   "metadata": {},
   "outputs": [],
   "source": [
    "ratings = pd.read_csv(\"ratings.csv\", encoding=\"latin1\", quotechar='\"', on_bad_lines=\"skip\", low_memory=False)\n",
    "\n",
    "ratings.rename(columns={'User-ID' : 'userId', 'ISBN' : 'isbn', 'Book-Rating' : 'rating'}, inplace=True)\n"
   ]
  },
  {
   "cell_type": "code",
   "execution_count": 77,
   "id": "676c3686",
   "metadata": {},
   "outputs": [],
   "source": [
    "isbn = \"0553571338\""
   ]
  },
  {
   "cell_type": "code",
   "execution_count": 78,
   "id": "56b07925",
   "metadata": {},
   "outputs": [],
   "source": [
    "similar_readers = ratings[(ratings[\"isbn\"] == isbn) & (ratings[\"rating\"] >= 1)][\"userId\"].unique()"
   ]
  },
  {
   "cell_type": "code",
   "execution_count": 79,
   "id": "9638b26c",
   "metadata": {},
   "outputs": [
    {
     "data": {
      "text/plain": [
       "array([  7841,  11676,  27769,  64185,  74026, 151702, 203240, 264688])"
      ]
     },
     "execution_count": 79,
     "metadata": {},
     "output_type": "execute_result"
    }
   ],
   "source": [
    "similar_readers"
   ]
  }
 ],
 "metadata": {
  "kernelspec": {
   "display_name": ".venv",
   "language": "python",
   "name": "python3"
  },
  "language_info": {
   "codemirror_mode": {
    "name": "ipython",
    "version": 3
   },
   "file_extension": ".py",
   "mimetype": "text/x-python",
   "name": "python",
   "nbconvert_exporter": "python",
   "pygments_lexer": "ipython3",
   "version": "3.12.3"
  }
 },
 "nbformat": 4,
 "nbformat_minor": 5
}
