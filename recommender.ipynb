{
 "cells": [
  {
   "cell_type": "code",
   "execution_count": 83,
   "id": "113925ef",
   "metadata": {},
   "outputs": [],
   "source": [
    "#https://www.kaggle.com/datasets/saurabhbagchi/books-dataset?select=books_data\n",
    "\n",
    "import pandas as pd\n",
    "\n",
    "books = pd.read_csv(\"books.csv\", encoding=\"latin1\", quotechar='\"', on_bad_lines=\"skip\", low_memory=False)\n",
    "\n",
    "books = books.drop(columns=['Image-URL-S', 'Image-URL-M', 'Image-URL-L', 'Publisher'])\n",
    "\n",
    "books.rename(columns={'ISBN': 'isbn', 'Book-Title' : 'title', 'Book-Author' : 'author', 'Year-Of-Publication' : 'pub_year'}, inplace=True)"
   ]
  },
  {
   "cell_type": "code",
   "execution_count": 84,
   "id": "ddbad4a8",
   "metadata": {},
   "outputs": [
    {
     "data": {
      "text/html": [
       "<div>\n",
       "<style scoped>\n",
       "    .dataframe tbody tr th:only-of-type {\n",
       "        vertical-align: middle;\n",
       "    }\n",
       "\n",
       "    .dataframe tbody tr th {\n",
       "        vertical-align: top;\n",
       "    }\n",
       "\n",
       "    .dataframe thead th {\n",
       "        text-align: right;\n",
       "    }\n",
       "</style>\n",
       "<table border=\"1\" class=\"dataframe\">\n",
       "  <thead>\n",
       "    <tr style=\"text-align: right;\">\n",
       "      <th></th>\n",
       "      <th>isbn</th>\n",
       "      <th>title</th>\n",
       "      <th>author</th>\n",
       "      <th>pub_year</th>\n",
       "    </tr>\n",
       "  </thead>\n",
       "  <tbody>\n",
       "    <tr>\n",
       "      <th>0</th>\n",
       "      <td>0195153448</td>\n",
       "      <td>Classical Mythology</td>\n",
       "      <td>Mark P. O. Morford</td>\n",
       "      <td>2002</td>\n",
       "    </tr>\n",
       "    <tr>\n",
       "      <th>1</th>\n",
       "      <td>0002005018</td>\n",
       "      <td>Clara Callan</td>\n",
       "      <td>Richard Bruce Wright</td>\n",
       "      <td>2001</td>\n",
       "    </tr>\n",
       "    <tr>\n",
       "      <th>2</th>\n",
       "      <td>0060973129</td>\n",
       "      <td>Decision in Normandy</td>\n",
       "      <td>Carlo D'Este</td>\n",
       "      <td>1991</td>\n",
       "    </tr>\n",
       "    <tr>\n",
       "      <th>3</th>\n",
       "      <td>0374157065</td>\n",
       "      <td>Flu: The Story of the Great Influenza Pandemic...</td>\n",
       "      <td>Gina Bari Kolata</td>\n",
       "      <td>1999</td>\n",
       "    </tr>\n",
       "    <tr>\n",
       "      <th>4</th>\n",
       "      <td>0393045218</td>\n",
       "      <td>The Mummies of Urumchi</td>\n",
       "      <td>E. J. W. Barber</td>\n",
       "      <td>1999</td>\n",
       "    </tr>\n",
       "    <tr>\n",
       "      <th>...</th>\n",
       "      <td>...</td>\n",
       "      <td>...</td>\n",
       "      <td>...</td>\n",
       "      <td>...</td>\n",
       "    </tr>\n",
       "    <tr>\n",
       "      <th>271259</th>\n",
       "      <td>0440400988</td>\n",
       "      <td>There's a Bat in Bunk Five</td>\n",
       "      <td>Paula Danziger</td>\n",
       "      <td>1988</td>\n",
       "    </tr>\n",
       "    <tr>\n",
       "      <th>271260</th>\n",
       "      <td>0525447644</td>\n",
       "      <td>From One to One Hundred</td>\n",
       "      <td>Teri Sloat</td>\n",
       "      <td>1991</td>\n",
       "    </tr>\n",
       "    <tr>\n",
       "      <th>271261</th>\n",
       "      <td>006008667X</td>\n",
       "      <td>Lily Dale : The True Story of the Town that Ta...</td>\n",
       "      <td>Christine Wicker</td>\n",
       "      <td>2004</td>\n",
       "    </tr>\n",
       "    <tr>\n",
       "      <th>271262</th>\n",
       "      <td>0192126040</td>\n",
       "      <td>Republic (World's Classics)</td>\n",
       "      <td>Plato</td>\n",
       "      <td>1996</td>\n",
       "    </tr>\n",
       "    <tr>\n",
       "      <th>271263</th>\n",
       "      <td>0767409752</td>\n",
       "      <td>A Guided Tour of Rene Descartes' Meditations o...</td>\n",
       "      <td>Christopher  Biffle</td>\n",
       "      <td>2000</td>\n",
       "    </tr>\n",
       "  </tbody>\n",
       "</table>\n",
       "<p>271264 rows × 4 columns</p>\n",
       "</div>"
      ],
      "text/plain": [
       "              isbn                                              title  \\\n",
       "0       0195153448                                Classical Mythology   \n",
       "1       0002005018                                       Clara Callan   \n",
       "2       0060973129                               Decision in Normandy   \n",
       "3       0374157065  Flu: The Story of the Great Influenza Pandemic...   \n",
       "4       0393045218                             The Mummies of Urumchi   \n",
       "...            ...                                                ...   \n",
       "271259  0440400988                         There's a Bat in Bunk Five   \n",
       "271260  0525447644                            From One to One Hundred   \n",
       "271261  006008667X  Lily Dale : The True Story of the Town that Ta...   \n",
       "271262  0192126040                        Republic (World's Classics)   \n",
       "271263  0767409752  A Guided Tour of Rene Descartes' Meditations o...   \n",
       "\n",
       "                      author pub_year  \n",
       "0         Mark P. O. Morford     2002  \n",
       "1       Richard Bruce Wright     2001  \n",
       "2               Carlo D'Este     1991  \n",
       "3           Gina Bari Kolata     1999  \n",
       "4            E. J. W. Barber     1999  \n",
       "...                      ...      ...  \n",
       "271259        Paula Danziger     1988  \n",
       "271260            Teri Sloat     1991  \n",
       "271261      Christine Wicker     2004  \n",
       "271262                 Plato     1996  \n",
       "271263   Christopher  Biffle     2000  \n",
       "\n",
       "[271264 rows x 4 columns]"
      ]
     },
     "execution_count": 84,
     "metadata": {},
     "output_type": "execute_result"
    }
   ],
   "source": [
    "books"
   ]
  },
  {
   "cell_type": "code",
   "execution_count": 85,
   "id": "e8c3f6fc",
   "metadata": {},
   "outputs": [],
   "source": [
    "from sklearn.feature_extraction.text import TfidfVectorizer\n",
    "\n",
    "vectorizer = TfidfVectorizer(ngram_range=(1,2))\n",
    "\n",
    "tfidf = vectorizer.fit_transform(books[\"title\"])"
   ]
  },
  {
   "cell_type": "code",
   "execution_count": 86,
   "id": "ff7ee064",
   "metadata": {},
   "outputs": [],
   "source": [
    "from sklearn.metrics.pairwise import cosine_similarity\n",
    "import numpy as np\n",
    "\n",
    "def search(title):\n",
    "    query_vec = vectorizer.transform([title])\n",
    "    similarity = cosine_similarity(query_vec, tfidf).flatten()\n",
    "    indices = np.argpartition(similarity, -5)[-5:]\n",
    "    results = books.iloc[indices][::-1]\n",
    "    return results"
   ]
  },
  {
   "cell_type": "code",
   "execution_count": 87,
   "id": "3932b9bf",
   "metadata": {},
   "outputs": [
    {
     "data": {
      "application/vnd.jupyter.widget-view+json": {
       "model_id": "3b52f6f57d044d6bbfb2182bf55caffb",
       "version_major": 2,
       "version_minor": 0
      },
      "text/plain": [
       "Text(value='Goat Brothers', description='Book Title')"
      ]
     },
     "metadata": {},
     "output_type": "display_data"
    },
    {
     "data": {
      "application/vnd.jupyter.widget-view+json": {
       "model_id": "c9d6926474384d969bc0ff2c700b5f1f",
       "version_major": 2,
       "version_minor": 0
      },
      "text/plain": [
       "Output()"
      ]
     },
     "metadata": {},
     "output_type": "display_data"
    }
   ],
   "source": [
    "import ipywidgets as widgets\n",
    "from IPython.display import display\n",
    "\n",
    "book_input = widgets.Text(\n",
    "    value=\"Goat Brothers\",\n",
    "    description=\"Book Title\",\n",
    "    disabled=False\n",
    ")\n",
    "book_list = widgets.Output()\n",
    "\n",
    "def on_type(data):\n",
    "    with book_list:\n",
    "        book_list.clear_output()\n",
    "        title = data[\"new\"]\n",
    "        if len(title) > 5:\n",
    "            display(search(title))\n",
    "\n",
    "book_input.observe(on_type, names='value')\n",
    "\n",
    "display(book_input, book_list)"
   ]
  },
  {
   "cell_type": "code",
   "execution_count": 88,
   "id": "4cc95b82",
   "metadata": {},
   "outputs": [],
   "source": [
    "ratings = pd.read_csv(\"ratings.csv\", encoding=\"latin1\", quotechar='\"', on_bad_lines=\"skip\", low_memory=False)\n",
    "\n",
    "ratings.rename(columns={'User-ID' : 'userId', 'ISBN' : 'isbn', 'Book-Rating' : 'rating'}, inplace=True)\n"
   ]
  },
  {
   "cell_type": "code",
   "execution_count": 89,
   "id": "676c3686",
   "metadata": {},
   "outputs": [],
   "source": [
    "isbn = \"0553571338\"\n",
    "minimum_rating = 7"
   ]
  },
  {
   "cell_type": "code",
   "execution_count": 90,
   "id": "56b07925",
   "metadata": {},
   "outputs": [],
   "source": [
    "similar_readers = ratings[(ratings[\"isbn\"] == isbn) & (ratings[\"rating\"] > minimum_rating)][\"userId\"].unique()"
   ]
  },
  {
   "cell_type": "code",
   "execution_count": 91,
   "id": "9638b26c",
   "metadata": {},
   "outputs": [
    {
     "data": {
      "text/plain": [
       "array([  7841,  27769,  64185,  74026, 203240, 264688])"
      ]
     },
     "execution_count": 91,
     "metadata": {},
     "output_type": "execute_result"
    }
   ],
   "source": [
    "similar_readers"
   ]
  },
  {
   "cell_type": "code",
   "execution_count": 92,
   "id": "01cd1fb8",
   "metadata": {},
   "outputs": [],
   "source": [
    "similar_reader_recs = ratings[(ratings[\"userId\"].isin(similar_readers)) & (ratings[\"rating\"] > minimum_rating)]"
   ]
  },
  {
   "cell_type": "code",
   "execution_count": 93,
   "id": "5626f623",
   "metadata": {},
   "outputs": [
    {
     "data": {
      "text/html": [
       "<div>\n",
       "<style scoped>\n",
       "    .dataframe tbody tr th:only-of-type {\n",
       "        vertical-align: middle;\n",
       "    }\n",
       "\n",
       "    .dataframe tbody tr th {\n",
       "        vertical-align: top;\n",
       "    }\n",
       "\n",
       "    .dataframe thead th {\n",
       "        text-align: right;\n",
       "    }\n",
       "</style>\n",
       "<table border=\"1\" class=\"dataframe\">\n",
       "  <thead>\n",
       "    <tr style=\"text-align: right;\">\n",
       "      <th></th>\n",
       "      <th>userId</th>\n",
       "      <th>isbn</th>\n",
       "      <th>rating</th>\n",
       "    </tr>\n",
       "  </thead>\n",
       "  <tbody>\n",
       "    <tr>\n",
       "      <th>33056</th>\n",
       "      <td>7841</td>\n",
       "      <td>0060987103</td>\n",
       "      <td>9</td>\n",
       "    </tr>\n",
       "    <tr>\n",
       "      <th>33058</th>\n",
       "      <td>7841</td>\n",
       "      <td>0062509594</td>\n",
       "      <td>9</td>\n",
       "    </tr>\n",
       "    <tr>\n",
       "      <th>33059</th>\n",
       "      <td>7841</td>\n",
       "      <td>0140185216</td>\n",
       "      <td>10</td>\n",
       "    </tr>\n",
       "    <tr>\n",
       "      <th>33060</th>\n",
       "      <td>7841</td>\n",
       "      <td>014034294X</td>\n",
       "      <td>8</td>\n",
       "    </tr>\n",
       "    <tr>\n",
       "      <th>33061</th>\n",
       "      <td>7841</td>\n",
       "      <td>0140348107</td>\n",
       "      <td>10</td>\n",
       "    </tr>\n",
       "    <tr>\n",
       "      <th>...</th>\n",
       "      <td>...</td>\n",
       "      <td>...</td>\n",
       "      <td>...</td>\n",
       "    </tr>\n",
       "    <tr>\n",
       "      <th>1102917</th>\n",
       "      <td>264688</td>\n",
       "      <td>0553571338</td>\n",
       "      <td>9</td>\n",
       "    </tr>\n",
       "    <tr>\n",
       "      <th>1102918</th>\n",
       "      <td>264688</td>\n",
       "      <td>0590216880</td>\n",
       "      <td>10</td>\n",
       "    </tr>\n",
       "    <tr>\n",
       "      <th>1102919</th>\n",
       "      <td>264688</td>\n",
       "      <td>0590997289</td>\n",
       "      <td>8</td>\n",
       "    </tr>\n",
       "    <tr>\n",
       "      <th>1102920</th>\n",
       "      <td>264688</td>\n",
       "      <td>0698119002</td>\n",
       "      <td>10</td>\n",
       "    </tr>\n",
       "    <tr>\n",
       "      <th>1102921</th>\n",
       "      <td>264688</td>\n",
       "      <td>0743418387</td>\n",
       "      <td>10</td>\n",
       "    </tr>\n",
       "  </tbody>\n",
       "</table>\n",
       "<p>147 rows × 3 columns</p>\n",
       "</div>"
      ],
      "text/plain": [
       "         userId        isbn  rating\n",
       "33056      7841  0060987103       9\n",
       "33058      7841  0062509594       9\n",
       "33059      7841  0140185216      10\n",
       "33060      7841  014034294X       8\n",
       "33061      7841  0140348107      10\n",
       "...         ...         ...     ...\n",
       "1102917  264688  0553571338       9\n",
       "1102918  264688  0590216880      10\n",
       "1102919  264688  0590997289       8\n",
       "1102920  264688  0698119002      10\n",
       "1102921  264688  0743418387      10\n",
       "\n",
       "[147 rows x 3 columns]"
      ]
     },
     "execution_count": 93,
     "metadata": {},
     "output_type": "execute_result"
    }
   ],
   "source": [
    "similar_reader_recs"
   ]
  }
 ],
 "metadata": {
  "kernelspec": {
   "display_name": ".venv",
   "language": "python",
   "name": "python3"
  },
  "language_info": {
   "codemirror_mode": {
    "name": "ipython",
    "version": 3
   },
   "file_extension": ".py",
   "mimetype": "text/x-python",
   "name": "python",
   "nbconvert_exporter": "python",
   "pygments_lexer": "ipython3",
   "version": "3.12.3"
  }
 },
 "nbformat": 4,
 "nbformat_minor": 5
}
